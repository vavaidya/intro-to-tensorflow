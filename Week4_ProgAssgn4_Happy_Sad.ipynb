{
  "nbformat": 4,
  "nbformat_minor": 0,
  "metadata": {
    "colab": {
      "name": "Week4_ProgAssgn4_Happy_Sad.ipynb",
      "provenance": [],
      "collapsed_sections": [],
      "include_colab_link": true
    },
    "kernelspec": {
      "name": "python3",
      "display_name": "Python 3"
    }
  },
  "cells": [
    {
      "cell_type": "markdown",
      "metadata": {
        "id": "view-in-github",
        "colab_type": "text"
      },
      "source": [
        "<a href=\"https://colab.research.google.com/github/vavaidya/intro-to-tensorflow/blob/master/Week4_ProgAssgn4_Happy_Sad.ipynb\" target=\"_parent\"><img src=\"https://colab.research.google.com/assets/colab-badge.svg\" alt=\"Open In Colab\"/></a>"
      ]
    },
    {
      "cell_type": "code",
      "metadata": {
        "id": "TazfnVUF25Hf",
        "colab_type": "code",
        "colab": {}
      },
      "source": [
        ""
      ],
      "execution_count": 0,
      "outputs": []
    },
    {
      "cell_type": "markdown",
      "metadata": {
        "id": "15ItuzqK54Bc",
        "colab_type": "text"
      },
      "source": [
        "Below is code with a link to a happy or sad dataset which contains 80 images, 40 happy and 40 sad. Create a convolutional neural network that trains to 100% accuracy on these images, which cancels training upon hitting training accuracy of >.999\n",
        "\n",
        "Hint -- it will work best with 3 convolutional layers."
      ]
    },
    {
      "cell_type": "code",
      "metadata": {
        "id": "wRnKOmdd6ALQ",
        "colab_type": "code",
        "colab": {
          "base_uri": "https://localhost:8080/",
          "height": 208
        },
        "outputId": "228a69db-5284-4ebd-a881-40f0c35ee00e"
      },
      "source": [
        "import tensorflow as tf\n",
        "import os\n",
        "import zipfile\n",
        "\n",
        "Desired_Accuracy = 0.999\n",
        "\n",
        "!wget --no-check-certificate \\\n",
        "    \"https://storage.googleapis.com/laurencemoroney-blog.appspot.com/happy-or-sad.zip\" \\\n",
        "    -O \"/tmp/happy-or-sad.zip\"\n",
        "\n",
        "zip_ref = zipfile.ZipFile(\"/tmp/happy-or-sad.zip\", 'r')\n",
        "zip_ref.extractall(\"/tmp/h-or-s\")\n",
        "zip_ref.close()\n",
        "\n",
        "class StopTrainingCallback(tf.keras.callbacks.Callback):\n",
        "  def on_epoch_end(self, epoch, logs={}):\n",
        "    if (logs.get('acc') > Desired_Accuracy):\n",
        "      print('\\nDesired Accuracy is met, Stopping training...')\n",
        "      self.model.stop_training = True\n",
        "\n",
        "callbacks = StopTrainingCallback()"
      ],
      "execution_count": 5,
      "outputs": [
        {
          "output_type": "stream",
          "text": [
            "--2019-10-11 03:48:23--  https://storage.googleapis.com/laurencemoroney-blog.appspot.com/happy-or-sad.zip\n",
            "Resolving storage.googleapis.com (storage.googleapis.com)... 173.194.210.128, 2607:f8b0:400c:c13::80\n",
            "Connecting to storage.googleapis.com (storage.googleapis.com)|173.194.210.128|:443... connected.\n",
            "HTTP request sent, awaiting response... 200 OK\n",
            "Length: 2670333 (2.5M) [application/zip]\n",
            "Saving to: ‘/tmp/happy-or-sad.zip’\n",
            "\n",
            "\r/tmp/happy-or-sad.z   0%[                    ]       0  --.-KB/s               \r/tmp/happy-or-sad.z 100%[===================>]   2.55M  --.-KB/s    in 0.02s   \n",
            "\n",
            "2019-10-11 03:48:23 (166 MB/s) - ‘/tmp/happy-or-sad.zip’ saved [2670333/2670333]\n",
            "\n"
          ],
          "name": "stdout"
        }
      ]
    },
    {
      "cell_type": "code",
      "metadata": {
        "id": "_XZux0lD8Eu8",
        "colab_type": "code",
        "colab": {
          "base_uri": "https://localhost:8080/",
          "height": 141
        },
        "outputId": "3e6824f5-7153-40f8-cfb1-e6e6027c1424"
      },
      "source": [
        "# This Code Block should Define and Compile the Model\n",
        "model = tf.keras.models.Sequential([\n",
        "    tf.keras.layers.Conv2D(64,(3,3),activation='relu', input_shape = (150,150,3)),\n",
        "    tf.keras.layers.MaxPooling2D(2,2),\n",
        "    tf.keras.layers.Conv2D(64,(3,3),activation='relu'),\n",
        "    tf.keras.layers.MaxPooling2D(2,2),\n",
        "    tf.keras.layers.Conv2D(64,(3,3),activation='relu'),\n",
        "    tf.keras.layers.MaxPooling2D(2,2),\n",
        "    \n",
        "    tf.keras.layers.Flatten(),\n",
        "    tf.keras.layers.Dense(128, activation='relu'),\n",
        "    tf.keras.layers.Dense(1, activation='sigmoid')\n",
        "])\n",
        "\n",
        "from tensorflow.keras.optimizers import RMSprop\n",
        "\n",
        "model.compile(loss='binary_crossentropy', optimizer='adam', metrics=['acc'])"
      ],
      "execution_count": 6,
      "outputs": [
        {
          "output_type": "stream",
          "text": [
            "WARNING:tensorflow:From /usr/local/lib/python3.6/dist-packages/tensorflow_core/python/ops/resource_variable_ops.py:1630: calling BaseResourceVariable.__init__ (from tensorflow.python.ops.resource_variable_ops) with constraint is deprecated and will be removed in a future version.\n",
            "Instructions for updating:\n",
            "If using Keras pass *_constraint arguments to layers.\n",
            "WARNING:tensorflow:From /usr/local/lib/python3.6/dist-packages/tensorflow_core/python/ops/nn_impl.py:183: where (from tensorflow.python.ops.array_ops) is deprecated and will be removed in a future version.\n",
            "Instructions for updating:\n",
            "Use tf.where in 2.0, which has the same broadcast rule as np.where\n"
          ],
          "name": "stdout"
        }
      ]
    },
    {
      "cell_type": "code",
      "metadata": {
        "id": "Nvbv_W6N9n4-",
        "colab_type": "code",
        "colab": {
          "base_uri": "https://localhost:8080/",
          "height": 35
        },
        "outputId": "66080415-1882-43f9-ed2a-2571867736a3"
      },
      "source": [
        "from tensorflow.keras.preprocessing.image import ImageDataGenerator\n",
        "\n",
        "train_datagen = ImageDataGenerator(rescale=1/255.0)\n",
        "\n",
        "train_generator = train_datagen.flow_from_directory(\n",
        "    '/tmp/h-or-s/', \n",
        "    target_size=(150,150), \n",
        "    batch_size=80, \n",
        "    class_mode='binary')\n"
      ],
      "execution_count": 7,
      "outputs": [
        {
          "output_type": "stream",
          "text": [
            "Found 80 images belonging to 2 classes.\n"
          ],
          "name": "stdout"
        }
      ]
    },
    {
      "cell_type": "code",
      "metadata": {
        "id": "9jeVmDKe-apb",
        "colab_type": "code",
        "colab": {
          "base_uri": "https://localhost:8080/",
          "height": 1000
        },
        "outputId": "33b4ec5a-d865-4fb2-e180-5ad338f05358"
      },
      "source": [
        "history = model.fit_generator(\n",
        "    train_generator,\n",
        "    steps_per_epoch=1,  \n",
        "    epochs=30,\n",
        "    verbose=1, \n",
        "    callbacks=[callbacks])"
      ],
      "execution_count": 8,
      "outputs": [
        {
          "output_type": "stream",
          "text": [
            "Epoch 1/30\n",
            "1/1 [==============================] - 7s 7s/step - loss: 0.7003 - acc: 0.5000\n",
            "Epoch 2/30\n",
            "1/1 [==============================] - 5s 5s/step - loss: 0.9601 - acc: 0.5000\n",
            "Epoch 3/30\n",
            "1/1 [==============================] - 5s 5s/step - loss: 0.6662 - acc: 0.5000\n",
            "Epoch 4/30\n",
            "1/1 [==============================] - 5s 5s/step - loss: 0.6884 - acc: 0.5000\n",
            "Epoch 5/30\n",
            "1/1 [==============================] - 5s 5s/step - loss: 0.6486 - acc: 0.9750\n",
            "Epoch 6/30\n",
            "1/1 [==============================] - 5s 5s/step - loss: 0.6489 - acc: 0.5000\n",
            "Epoch 7/30\n",
            "1/1 [==============================] - 5s 5s/step - loss: 0.6078 - acc: 0.5000\n",
            "Epoch 8/30\n",
            "1/1 [==============================] - 5s 5s/step - loss: 0.5477 - acc: 0.7500\n",
            "Epoch 9/30\n",
            "1/1 [==============================] - 5s 5s/step - loss: 0.4900 - acc: 0.9500\n",
            "Epoch 10/30\n",
            "1/1 [==============================] - 5s 5s/step - loss: 0.4124 - acc: 0.9500\n",
            "Epoch 11/30\n",
            "1/1 [==============================] - 5s 5s/step - loss: 0.3394 - acc: 0.9500\n",
            "Epoch 12/30\n",
            "1/1 [==============================] - 5s 5s/step - loss: 0.2560 - acc: 0.9375\n",
            "Epoch 13/30\n",
            "1/1 [==============================] - 5s 5s/step - loss: 0.2079 - acc: 0.9250\n",
            "Epoch 14/30\n",
            "1/1 [==============================] - 5s 5s/step - loss: 0.1635 - acc: 0.9500\n",
            "Epoch 15/30\n",
            "1/1 [==============================] - 5s 5s/step - loss: 0.1408 - acc: 0.9500\n",
            "Epoch 16/30\n",
            "1/1 [==============================] - 5s 5s/step - loss: 0.1408 - acc: 0.9375\n",
            "Epoch 17/30\n",
            "1/1 [==============================] - 5s 5s/step - loss: 0.1337 - acc: 0.9625\n",
            "Epoch 18/30\n",
            "1/1 [==============================] - 5s 5s/step - loss: 0.1380 - acc: 0.9375\n",
            "Epoch 19/30\n",
            "1/1 [==============================] - 5s 5s/step - loss: 0.0957 - acc: 0.9500\n",
            "Epoch 20/30\n",
            "1/1 [==============================] - 5s 5s/step - loss: 0.1468 - acc: 0.9250\n",
            "Epoch 21/30\n",
            "1/1 [==============================] - 5s 5s/step - loss: 0.1889 - acc: 0.9375\n",
            "Epoch 22/30\n",
            "1/1 [==============================] - 5s 5s/step - loss: 0.1822 - acc: 0.9375\n",
            "Epoch 23/30\n",
            "1/1 [==============================] - 5s 5s/step - loss: 0.0663 - acc: 0.9750\n",
            "Epoch 24/30\n",
            "1/1 [==============================] - 5s 5s/step - loss: 0.2366 - acc: 0.7500\n",
            "Epoch 25/30\n",
            "1/1 [==============================] - 5s 5s/step - loss: 0.0697 - acc: 0.9500\n",
            "Epoch 26/30\n",
            "1/1 [==============================] - 5s 5s/step - loss: 0.1589 - acc: 0.9375\n",
            "Epoch 27/30\n",
            "1/1 [==============================] - 5s 5s/step - loss: 0.1437 - acc: 0.9375\n",
            "Epoch 28/30\n",
            "1/1 [==============================] - 5s 5s/step - loss: 0.0600 - acc: 0.9500\n",
            "Epoch 29/30\n",
            "\n",
            "Desired Accuracy is met, Stopping training...\n",
            "1/1 [==============================] - 5s 5s/step - loss: 0.0702 - acc: 1.0000\n"
          ],
          "name": "stdout"
        }
      ]
    }
  ]
}